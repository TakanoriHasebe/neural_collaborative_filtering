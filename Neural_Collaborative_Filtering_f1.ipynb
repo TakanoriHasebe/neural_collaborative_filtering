{
 "cells": [
  {
   "cell_type": "code",
   "execution_count": 2,
   "metadata": {},
   "outputs": [],
   "source": [
    "import torch\n",
    "from torch import nn\n",
    "import torch.nn.functional as F\n",
    "import torch.utils.data\n",
    "\n",
    "import numpy as np\n",
    "import math\n",
    "\n",
    "import pickle"
   ]
  },
  {
   "cell_type": "markdown",
   "metadata": {},
   "source": [
    "### データを読み込む"
   ]
  },
  {
   "cell_type": "code",
   "execution_count": 3,
   "metadata": {},
   "outputs": [],
   "source": [
    "with open('data/user_train_arr.pkl', mode='rb') as f:\n",
    "    user_arr = pickle.load(f)\n",
    "with open('data/movie_train_arr.pkl', mode='rb') as f:\n",
    "    movie_arr = pickle.load(f)\n",
    "with open('data/score_train_arr.pkl', mode='rb') as f:\n",
    "    score_arr = pickle.load(f)\n",
    "with open('data/user_test_arr.pkl', mode='rb') as f:\n",
    "    user_test_arr = pickle.load(f)\n",
    "with open('data/movie_test_arr.pkl', mode='rb') as f:\n",
    "    movie_test_arr = pickle.load(f)\n",
    "with open('data/score_test_arr.pkl', mode='rb') as f:\n",
    "    score_test_arr = pickle.load(f)"
   ]
  },
  {
   "cell_type": "code",
   "execution_count": 4,
   "metadata": {},
   "outputs": [
    {
     "data": {
      "text/plain": [
       "(scipy.sparse.csc.csc_matrix, scipy.sparse.csc.csc_matrix, numpy.ndarray)"
      ]
     },
     "execution_count": 4,
     "metadata": {},
     "output_type": "execute_result"
    }
   ],
   "source": [
    "type(user_arr), type(movie_arr), type(score_arr)"
   ]
  },
  {
   "cell_type": "code",
   "execution_count": 5,
   "metadata": {},
   "outputs": [
    {
     "data": {
      "text/plain": [
       "((750156, 6041), (750156, 3953), (750156,))"
      ]
     },
     "execution_count": 5,
     "metadata": {},
     "output_type": "execute_result"
    }
   ],
   "source": [
    "user_arr.shape, movie_arr.shape, score_arr.shape"
   ]
  },
  {
   "cell_type": "code",
   "execution_count": 6,
   "metadata": {},
   "outputs": [
    {
     "data": {
      "text/plain": [
       "((250053, 6041), (250053, 3953), (250053,))"
      ]
     },
     "execution_count": 6,
     "metadata": {},
     "output_type": "execute_result"
    }
   ],
   "source": [
    "user_test_arr.shape, movie_test_arr.shape, score_test_arr.shape"
   ]
  },
  {
   "cell_type": "markdown",
   "metadata": {},
   "source": [
    "### NCF Architecture"
   ]
  },
  {
   "cell_type": "code",
   "execution_count": 7,
   "metadata": {},
   "outputs": [],
   "source": [
    "class Model(nn.Module):\n",
    "    \n",
    "    def __init__(self):\n",
    "        super(Model, self).__init__()\n",
    "        \n",
    "        # GMF\n",
    "        self.item_embedding_gmf = nn.Linear(3953, 1000, bias=False)\n",
    "        self.user_embedding_gmf = nn.Linear(6041, 1000, bias=False)\n",
    "        \n",
    "        self.GMF_Linear = nn.Linear(1000, 1)\n",
    "        \n",
    "        # MLP\n",
    "        self.item_embedding_mlp = nn.Linear(3953, 1000, bias=False)\n",
    "        self.user_embedding_mlp = nn.Linear(6041, 1000, bias=False)\n",
    "        self.linear1 = nn.Linear(2000, 1000)\n",
    "        self.linear2 = nn.Linear(1000, 500)\n",
    "        self.linear3 = nn.Linear(500, 250)\n",
    "        self.linear4 = nn.Linear(250, 125)\n",
    "        self.linear5 = nn.Linear(125, 65)\n",
    "        self.linear6 = nn.Linear(65, 1)\n",
    "        \n",
    "        # NeuMF\n",
    "        self.linear_MF = nn.Linear(2, 1)\n",
    "    \n",
    "    def forward(self, item, user):\n",
    "        \n",
    "        # GMF\n",
    "        item_gmf = self.item_embedding_gmf(item)\n",
    "        user_gmf = self.user_embedding_gmf(user)\n",
    "        product = torch.mul(item_gmf, user_gmf)\n",
    "        y_gmf = self.GMF_Linear(product)\n",
    "        y_gmf = torch.sigmoid(y_gmf)\n",
    "        \n",
    "        # MLP\n",
    "        item_mlp = self.item_embedding_mlp(item)\n",
    "        user_mlp = self.user_embedding_mlp(user)\n",
    "        item_user_concat = torch.cat([item_mlp, user_mlp], dim=1)\n",
    "        y_mlp = self.linear1(item_user_concat)\n",
    "        y_mlp = torch.relu(y_mlp)\n",
    "        y_mlp = self.linear2(y_mlp)\n",
    "        y_mlp = torch.relu(y_mlp)\n",
    "        y_mlp = self.linear3(y_mlp)\n",
    "        y_mlp = torch.relu(y_mlp)\n",
    "        y_mlp = self.linear4(y_mlp)\n",
    "        y_mlp = torch.relu(y_mlp)\n",
    "        y_mlp = self.linear5(y_mlp)\n",
    "        y_mlp = torch.relu(y_mlp)\n",
    "        y_mlp = self.linear6(y_mlp)\n",
    "        \n",
    "        # NeuMF\n",
    "        y = torch.cat([y_gmf, y_mlp], dim=1)\n",
    "        y = self.linear_MF(y)\n",
    "        y = torch.sigmoid(y)\n",
    "        \n",
    "        return y\n",
    "        "
   ]
  },
  {
   "cell_type": "code",
   "execution_count": 8,
   "metadata": {},
   "outputs": [],
   "source": [
    "model = Model()"
   ]
  },
  {
   "cell_type": "code",
   "execution_count": 9,
   "metadata": {},
   "outputs": [
    {
     "data": {
      "text/plain": [
       "(1, 3953)"
      ]
     },
     "execution_count": 9,
     "metadata": {},
     "output_type": "execute_result"
    }
   ],
   "source": [
    "movie_arr[0].toarray().shape"
   ]
  },
  {
   "cell_type": "code",
   "execution_count": 10,
   "metadata": {},
   "outputs": [
    {
     "data": {
      "text/plain": [
       "tensor([[0.7014]], grad_fn=<SigmoidBackward>)"
      ]
     },
     "execution_count": 10,
     "metadata": {},
     "output_type": "execute_result"
    }
   ],
   "source": [
    "item = torch.FloatTensor(movie_arr[0].toarray())\n",
    "user = torch.FloatTensor(user_arr[0].toarray())\n",
    "\n",
    "model(item, user)"
   ]
  },
  {
   "cell_type": "markdown",
   "metadata": {},
   "source": [
    "### DataSetを作成する"
   ]
  },
  {
   "cell_type": "code",
   "execution_count": 11,
   "metadata": {},
   "outputs": [],
   "source": [
    "# Datasetの定義\n",
    "class MyDataSet(torch.utils.data.Dataset):\n",
    "    def __init__(self, item, user, score):\n",
    "        \n",
    "        self.item = item\n",
    "        self.user = user\n",
    "        self.score = score\n",
    "        self.length = item.shape[1]\n",
    "        \n",
    "    def __len__(self):\n",
    "        return self.length\n",
    "    \n",
    "    def __getitem__(self, index):\n",
    "        \n",
    "        item_vec = self.item[index].toarray().astype(\"float32\")\n",
    "        user_vec = self.user[index].toarray().astype(\"float32\")\n",
    "        score = self.score[index].astype(\"float32\")\n",
    "        \n",
    "        return item_vec, user_vec, score"
   ]
  },
  {
   "cell_type": "code",
   "execution_count": 12,
   "metadata": {},
   "outputs": [],
   "source": [
    "trainset = MyDataSet(movie_arr, user_arr, score_arr)"
   ]
  },
  {
   "cell_type": "code",
   "execution_count": 13,
   "metadata": {},
   "outputs": [],
   "source": [
    "trainloader = torch.utils.data.DataLoader(trainset, batch_size=100, shuffle=True)"
   ]
  },
  {
   "cell_type": "code",
   "execution_count": 14,
   "metadata": {},
   "outputs": [],
   "source": [
    "for data in trainloader:\n",
    "    res = model(torch.squeeze(data[0]), torch.squeeze(data[1]))\n",
    "    break"
   ]
  },
  {
   "cell_type": "markdown",
   "metadata": {},
   "source": [
    "### 訓練開始"
   ]
  },
  {
   "cell_type": "code",
   "execution_count": 15,
   "metadata": {},
   "outputs": [],
   "source": [
    "class EarlyStopping:\n",
    "    \"\"\"Early stops the training if validation loss doesn't improve after a given patience.\"\"\"\n",
    "    def __init__(self, patience=7, verbose=False, delta=0):\n",
    "        \"\"\"\n",
    "        Args:\n",
    "            patience (int): How long to wait after last time validation loss improved.\n",
    "                            Default: 7\n",
    "            verbose (bool): If True, prints a message for each validation loss improvement. \n",
    "                            Default: False\n",
    "            delta (float): Minimum change in the monitored quantity to qualify as an improvement.\n",
    "                            Default: 0\n",
    "        \"\"\"\n",
    "        self.patience = patience\n",
    "        self.verbose = verbose\n",
    "        self.counter = 0\n",
    "        self.best_score = None\n",
    "        self.early_stop = False\n",
    "        self.val_loss_min = np.Inf\n",
    "        self.delta = delta\n",
    "\n",
    "    def __call__(self, val_loss, model):\n",
    "\n",
    "        score = -val_loss\n",
    "\n",
    "        if self.best_score is None:\n",
    "            self.best_score = score\n",
    "            self.save_checkpoint(val_loss, model)\n",
    "        elif score < self.best_score - self.delta:\n",
    "            self.counter += 1\n",
    "            print(f'EarlyStopping counter: {self.counter} out of {self.patience}')\n",
    "            if self.counter >= self.patience:\n",
    "                self.early_stop = True\n",
    "        else:\n",
    "            self.best_score = score\n",
    "            self.save_checkpoint(val_loss, model)\n",
    "            self.counter = 0\n",
    "\n",
    "    def save_checkpoint(self, val_loss, model):\n",
    "        '''Saves model when validation loss decrease.'''\n",
    "        if self.verbose:\n",
    "            print(f'Validation loss decreased ({self.val_loss_min:.6f} --> {val_loss:.6f}).  Saving model ...')\n",
    "        torch.save(model.state_dict(), 'checkpoint_pairwise.pt')\n",
    "        self.val_loss_min = val_loss"
   ]
  },
  {
   "cell_type": "code",
   "execution_count": 16,
   "metadata": {},
   "outputs": [],
   "source": [
    "# ハイパーパラメータ\n",
    "learning_rate = 0.0001\n",
    "epochs = 50"
   ]
  },
  {
   "cell_type": "code",
   "execution_count": 17,
   "metadata": {},
   "outputs": [],
   "source": [
    "model = Model()"
   ]
  },
  {
   "cell_type": "code",
   "execution_count": 21,
   "metadata": {},
   "outputs": [],
   "source": [
    "criterion = torch.nn.BCEWithLogitsLoss()\n",
    "optimizer = torch.optim.AdamW(model.parameters(), lr=learning_rate)"
   ]
  },
  {
   "cell_type": "code",
   "execution_count": 22,
   "metadata": {},
   "outputs": [],
   "source": [
    "early_stopping = EarlyStopping(patience=10, verbose=True)"
   ]
  },
  {
   "cell_type": "code",
   "execution_count": 24,
   "metadata": {
    "scrolled": true
   },
   "outputs": [
    {
     "name": "stdout",
     "output_type": "stream",
     "text": [
      "0\n",
      "0.5775279581546784\n",
      "1\n",
      "0.5772336773574352\n",
      "2\n",
      "0.5764692490299542\n",
      "3\n",
      "0.5671645103022456\n",
      "4\n",
      "0.5424926435947418\n",
      "5\n",
      "0.5233024212221304\n",
      "6\n",
      "0.5083345114120416\n",
      "7\n",
      "0.4965631103143096\n",
      "8\n",
      "0.48704628803663785\n",
      "9\n",
      "0.47932173766195774\n",
      "10\n",
      "0.4725741881538521\n",
      "11\n",
      "0.46579667658855517\n",
      "12\n",
      "0.4591732217715337\n",
      "13\n",
      "0.4533531438559294\n",
      "14\n",
      "0.4483123677472273\n",
      "15\n",
      "0.4438952469732612\n",
      "16\n",
      "0.4399811647394124\n",
      "17\n",
      "0.43649066334797276\n",
      "18\n",
      "0.43337855444926965\n",
      "19\n",
      "0.4305829444900155\n",
      "20\n",
      "0.4280332066473507\n",
      "21\n",
      "0.4257327745922587\n",
      "22\n",
      "0.4236189263670341\n",
      "23\n",
      "0.4216916535360118\n",
      "24\n",
      "0.41989152306318284\n",
      "25\n",
      "0.4182492385403468\n",
      "26\n",
      "0.41673052548258394\n",
      "27\n",
      "0.4153243705098118\n",
      "28\n",
      "0.4140006389854283\n",
      "29\n",
      "0.41276793539524076\n",
      "30\n",
      "0.4116228936660674\n",
      "31\n",
      "0.41055202956777065\n",
      "32\n",
      "0.40956136715231517\n",
      "33\n",
      "0.40860914964886275\n",
      "34\n",
      "0.4077200755476952\n",
      "35\n",
      "0.4068718884761135\n",
      "36\n",
      "0.40607098242318307\n",
      "37\n",
      "0.40530860606384905\n",
      "38\n",
      "0.4045831608848694\n",
      "39\n",
      "0.40391138575971125\n",
      "40\n",
      "0.4032656713229854\n",
      "41\n",
      "0.40264267960474603\n",
      "42\n",
      "0.40205773456498634\n",
      "43\n",
      "0.4014981653371995\n",
      "44\n",
      "0.40096090392933953\n",
      "45\n",
      "0.4004518198254316\n",
      "46\n",
      "0.399947795192612\n",
      "47\n",
      "0.39947003407093384\n",
      "48\n",
      "0.3990152093372783\n",
      "49\n",
      "0.3985802614539862\n"
     ]
    }
   ],
   "source": [
    "train_loss = list()\n",
    "valid_loss = list()\n",
    "train_losses = list()\n",
    "valid_losses = list()\n",
    "for epoch in range(epochs):\n",
    "    print(epoch)\n",
    "    \n",
    "    model.train()\n",
    "    for data in trainloader:\n",
    "        \n",
    "        output = model(torch.squeeze(data[0]), torch.squeeze(data[1]))\n",
    "        loss = criterion(torch.squeeze(output), data[2])\n",
    "    \n",
    "        # Backward and optimize\n",
    "        optimizer.zero_grad()\n",
    "        \n",
    "        train_losses.append(loss.item())\n",
    "        \n",
    "        loss.backward()\n",
    "        optimizer.step()\n",
    "        \n",
    "    train_loss = np.average(train_losses)\n",
    "    print(train_loss)"
   ]
  },
  {
   "cell_type": "code",
   "execution_count": 25,
   "metadata": {},
   "outputs": [
    {
     "data": {
      "text/plain": [
       "Model(\n",
       "  (item_embedding_gmf): Linear(in_features=3953, out_features=1000, bias=False)\n",
       "  (user_embedding_gmf): Linear(in_features=6041, out_features=1000, bias=False)\n",
       "  (GMF_Linear): Linear(in_features=1000, out_features=1, bias=True)\n",
       "  (item_embedding_mlp): Linear(in_features=3953, out_features=1000, bias=False)\n",
       "  (user_embedding_mlp): Linear(in_features=6041, out_features=1000, bias=False)\n",
       "  (linear1): Linear(in_features=2000, out_features=1000, bias=True)\n",
       "  (linear2): Linear(in_features=1000, out_features=500, bias=True)\n",
       "  (linear3): Linear(in_features=500, out_features=250, bias=True)\n",
       "  (linear4): Linear(in_features=250, out_features=125, bias=True)\n",
       "  (linear5): Linear(in_features=125, out_features=65, bias=True)\n",
       "  (linear6): Linear(in_features=65, out_features=1, bias=True)\n",
       "  (linear_MF): Linear(in_features=2, out_features=1, bias=True)\n",
       ")"
      ]
     },
     "execution_count": 25,
     "metadata": {},
     "output_type": "execute_result"
    }
   ],
   "source": [
    "model.eval()"
   ]
  },
  {
   "cell_type": "markdown",
   "metadata": {},
   "source": [
    "### ２値分類の評価"
   ]
  },
  {
   "cell_type": "code",
   "execution_count": 47,
   "metadata": {},
   "outputs": [],
   "source": [
    "res_lst = list()\n",
    "\n",
    "for i in range(0, len(score_test_arr)):\n",
    "    res = model(torch.FloatTensor(movie_test_arr[i].toarray()), torch.FloatTensor(user_test_arr[i].toarray()))\n",
    "    res_lst.append(res.item())"
   ]
  },
  {
   "cell_type": "code",
   "execution_count": 48,
   "metadata": {},
   "outputs": [
    {
     "data": {
      "text/plain": [
       "250053"
      ]
     },
     "execution_count": 48,
     "metadata": {},
     "output_type": "execute_result"
    }
   ],
   "source": [
    "len(res_lst)"
   ]
  },
  {
   "cell_type": "code",
   "execution_count": 49,
   "metadata": {},
   "outputs": [
    {
     "data": {
      "text/plain": [
       "((250053,), (250053, 3953))"
      ]
     },
     "execution_count": 49,
     "metadata": {},
     "output_type": "execute_result"
    }
   ],
   "source": [
    "score_test_arr.shape, movie_test_arr.shape"
   ]
  },
  {
   "cell_type": "code",
   "execution_count": 52,
   "metadata": {},
   "outputs": [],
   "source": [
    "with open('result.pkl', mode='wb') as f:\n",
    "    pickle.dump(res_lst, f)"
   ]
  },
  {
   "cell_type": "code",
   "execution_count": 53,
   "metadata": {},
   "outputs": [],
   "source": [
    "for i in range(0, len(res_lst)):\n",
    "    if res_lst[i] >= 0.5:\n",
    "        res_lst[i] = 1.0\n",
    "    else:\n",
    "        res_lst[i] = 0.0"
   ]
  },
  {
   "cell_type": "code",
   "execution_count": 54,
   "metadata": {},
   "outputs": [],
   "source": [
    "with open('result_binary.pkl', mode='wb') as f:\n",
    "    pickle.dump(res_lst, f)"
   ]
  },
  {
   "cell_type": "code",
   "execution_count": 55,
   "metadata": {},
   "outputs": [
    {
     "data": {
      "text/plain": [
       "0.8578131565993109"
      ]
     },
     "execution_count": 55,
     "metadata": {},
     "output_type": "execute_result"
    }
   ],
   "source": [
    "from sklearn.metrics import f1_score\n",
    "\n",
    "f1_score(score_test_arr, res_lst) "
   ]
  },
  {
   "cell_type": "code",
   "execution_count": 56,
   "metadata": {},
   "outputs": [
    {
     "name": "stderr",
     "output_type": "stream",
     "text": [
      "/home/hasebe/anaconda3/lib/python3.7/site-packages/torch/serialization.py:256: UserWarning: Couldn't retrieve source code for container of type Model. It won't be checked for correctness upon loading.\n",
      "  \"type \" + obj.__name__ + \". It won't be checked \"\n"
     ]
    }
   ],
   "source": [
    "torch.save(model, 'nfc_ver1.pth')"
   ]
  },
  {
   "cell_type": "code",
   "execution_count": 57,
   "metadata": {},
   "outputs": [
    {
     "data": {
      "text/plain": [
       "(250053, 6041)"
      ]
     },
     "execution_count": 57,
     "metadata": {},
     "output_type": "execute_result"
    }
   ],
   "source": [
    "user_test_arr.shape"
   ]
  },
  {
   "cell_type": "code",
   "execution_count": null,
   "metadata": {},
   "outputs": [],
   "source": []
  }
 ],
 "metadata": {
  "kernelspec": {
   "display_name": "Python 3",
   "language": "python",
   "name": "python3"
  },
  "language_info": {
   "codemirror_mode": {
    "name": "ipython",
    "version": 3
   },
   "file_extension": ".py",
   "mimetype": "text/x-python",
   "name": "python",
   "nbconvert_exporter": "python",
   "pygments_lexer": "ipython3",
   "version": "3.7.3"
  }
 },
 "nbformat": 4,
 "nbformat_minor": 4
}
